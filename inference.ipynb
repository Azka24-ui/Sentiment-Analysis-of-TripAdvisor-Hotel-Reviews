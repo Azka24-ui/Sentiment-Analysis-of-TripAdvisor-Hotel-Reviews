{
 "cells": [
  {
   "cell_type": "code",
   "execution_count": 16,
   "metadata": {},
   "outputs": [
    {
     "name": "stdout",
     "output_type": "stream",
     "text": [
      "WARNING:tensorflow:5 out of the last 5 calls to <function Model.make_predict_function.<locals>.predict_function at 0x0000027DBB69AA60> triggered tf.function retracing. Tracing is expensive and the excessive number of tracings could be due to (1) creating @tf.function repeatedly in a loop, (2) passing tensors with different shapes, (3) passing Python objects instead of tensors. For (1), please define your @tf.function outside of the loop. For (2), @tf.function has reduce_retracing=True option that can avoid unnecessary retracing. For (3), please refer to https://www.tensorflow.org/guide/function#controlling_retracing and https://www.tensorflow.org/api_docs/python/tf/function for  more details.\n",
      "1/1 [==============================] - 2s 2s/step\n",
      "Review: The hotel was amazing! The staff were friendly and the room was clean.\n",
      "Predicted Sentiment: Positive\n"
     ]
    }
   ],
   "source": [
    "import tensorflow as tf\n",
    "import numpy as np\n",
    "import pickle\n",
    "from tensorflow.keras.preprocessing.sequence import pad_sequences\n",
    "from tensorflow.keras.models import load_model\n",
    "\n",
    "# Memuat model yang telah disimpan\n",
    "loaded_model = load_model('sentiment_model.h5')\n",
    "\n",
    "# Memuat tokenizer\n",
    "with open('tokenizer.pkl', 'rb') as file:\n",
    "    tokenizer = pickle.load(file)\n",
    "\n",
    "# Label Sentimen\n",
    "sentiment_labels = {0: \"Negative\", 1: \"Neutral\", 2: \"Positive\"}\n",
    "\n",
    "# Fungsi untuk preprocessing teks sebelum inference\n",
    "def preprocess_text(text, tokenizer, max_length=100):\n",
    "    \"\"\"\n",
    "    Membersihkan teks input, mengubahnya menjadi sequence, dan melakukan padding agar sesuai dengan input model.\n",
    "    \"\"\"\n",
    "    text = text.lower()  # Lowercase\n",
    "    text = tokenizer.texts_to_sequences([text])  # Tokenisasi dengan tokenizer yang telah dipakai saat training\n",
    "    text = pad_sequences(text, maxlen=max_length, padding=\"post\")  # Padding agar sesuai dengan panjang input model\n",
    "    return text\n",
    "\n",
    "# Fungsi untuk melakukan inference (prediksi sentimen)\n",
    "def predict_sentiment(review):\n",
    "    \"\"\"\n",
    "    Menerima input teks review hotel, melakukan preprocessing, dan memberikan prediksi sentimen.\n",
    "    \"\"\"\n",
    "    processed_review = preprocess_text(review, tokenizer)\n",
    "    prediction = loaded_model.predict(processed_review)\n",
    "    sentiment = np.argmax(prediction)  # Mengambil indeks label dengan probabilitas tertinggi\n",
    "\n",
    "    return sentiment_labels[sentiment]\n",
    "\n",
    "\n",
    "user_review = \"The hotel was amazing! The staff were friendly and the room was clean.\"\n",
    "predicted_sentiment = predict_sentiment(user_review)\n",
    "\n",
    "# Output hasil prediksi\n",
    "print(f\"Review: {user_review}\")\n",
    "print(f\"Predicted Sentiment: {predicted_sentiment}\")\n"
   ]
  }
 ],
 "metadata": {
  "kernelspec": {
   "display_name": "base",
   "language": "python",
   "name": "python3"
  },
  "language_info": {
   "codemirror_mode": {
    "name": "ipython",
    "version": 3
   },
   "file_extension": ".py",
   "mimetype": "text/x-python",
   "name": "python",
   "nbconvert_exporter": "python",
   "pygments_lexer": "ipython3",
   "version": "3.9.20"
  }
 },
 "nbformat": 4,
 "nbformat_minor": 2
}
